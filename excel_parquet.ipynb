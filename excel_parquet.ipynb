{
 "cells": [
  {
   "cell_type": "code",
   "execution_count": 37,
   "id": "9659f408-fe32-47ed-96cd-b33acf3034fa",
   "metadata": {},
   "outputs": [],
   "source": [
    "import pandas as pd\n",
    "\n",
    "# Path to your Excel file\n",
    "excel_file_path = 'Student Data HESA 03 Dec 1230.xlsx'\n",
    "\n",
    "# Read the Excel file\n",
    "df = pd.read_excel(excel_file_path, 'Student')"
   ]
  },
  {
   "cell_type": "code",
   "execution_count": 38,
   "id": "eefb5f83-a4c0-4e0b-856e-10178b60bfa8",
   "metadata": {},
   "outputs": [],
   "source": [
    "# Path for the new Parquet file\n",
    "parquet_file_path = 'Dec1_Student_data_to_HESA_v9.parquet'\n",
    "\n",
    "# Save the DataFrame as a Parquet file\n",
    "df.to_parquet(parquet_file_path, index=False)"
   ]
  },
  {
   "cell_type": "code",
   "execution_count": 39,
   "id": "aece87db-7a31-4301-aa02-bf062240108f",
   "metadata": {},
   "outputs": [],
   "source": [
    "df_parquet = pd.read_parquet('Dec1_Student_data_to_HESA_v9.parquet')"
   ]
  },
  {
   "cell_type": "code",
   "execution_count": 40,
   "id": "fd864394-eebe-4563-9e37-0afbb20f8d2c",
   "metadata": {},
   "outputs": [
    {
     "data": {
      "text/plain": [
       "Index(['Progress', 'S', 'SID', 'SID2', 'BIRTHDTE', 'SURNAME', 'FNAMES',\n",
       "       'ETHNIC', 'GENDERID', 'NATION',\n",
       "       ...\n",
       "       'MODINSTENDDATE6', 'MODINSTSTARTDATE6', 'MODINSTID7', 'MODID7',\n",
       "       'MODINSTENDDATE7', 'MODINSTSTARTDATE7', 'MODINSTID8', 'MODID8',\n",
       "       'MODINSTENDDATE8', 'MODINSTSTARTDATE8'],\n",
       "      dtype='object', length=101)"
      ]
     },
     "execution_count": 40,
     "metadata": {},
     "output_type": "execute_result"
    }
   ],
   "source": [
    "df.columns"
   ]
  },
  {
   "cell_type": "code",
   "execution_count": 41,
   "id": "8ea34678-b539-45fd-9d46-6e235ee9b194",
   "metadata": {},
   "outputs": [
    {
     "data": {
      "text/plain": [
       "145"
      ]
     },
     "execution_count": 41,
     "metadata": {},
     "output_type": "execute_result"
    }
   ],
   "source": [
    "len(df_parquet['SID'].astype(int).unique())"
   ]
  },
  {
   "cell_type": "code",
   "execution_count": 42,
   "id": "7a98e4f5-dcf2-4aae-a330-c6181445fd5a",
   "metadata": {},
   "outputs": [
    {
     "data": {
      "text/plain": [
       "0          1913530960041\n",
       "1          2013530960195\n",
       "2          1913530960018\n",
       "3          1913530960030\n",
       "4          1913530960074\n",
       "             ...        \n",
       "140    23100320360270128\n",
       "141    23100320360270184\n",
       "142    23100320360270243\n",
       "143    23100320360270265\n",
       "144    23100320360270276\n",
       "Name: SID, Length: 145, dtype: int64"
      ]
     },
     "execution_count": 42,
     "metadata": {},
     "output_type": "execute_result"
    }
   ],
   "source": [
    "df_parquet['SID'].astype(int)"
   ]
  },
  {
   "cell_type": "code",
   "execution_count": 43,
   "id": "fa10b75b-d9ca-4693-9576-60b3e54a2076",
   "metadata": {},
   "outputs": [
    {
     "data": {
      "text/plain": [
       "145"
      ]
     },
     "execution_count": 43,
     "metadata": {},
     "output_type": "execute_result"
    }
   ],
   "source": [
    "len((df_parquet['SID'].astype(int)).unique())"
   ]
  },
  {
   "cell_type": "code",
   "execution_count": 44,
   "id": "a216a661-fe3c-43f4-ac04-f6e0a63e22c4",
   "metadata": {},
   "outputs": [
    {
     "data": {
      "text/plain": [
       "145"
      ]
     },
     "execution_count": 44,
     "metadata": {},
     "output_type": "execute_result"
    }
   ],
   "source": [
    "len(df_parquet['SID'].astype(int).unique())"
   ]
  },
  {
   "cell_type": "code",
   "execution_count": 45,
   "id": "3b38681e-dce7-4d30-a7d8-358ddfd2bf3c",
   "metadata": {},
   "outputs": [
    {
     "data": {
      "text/plain": [
       "array([    1913530960041,     2013530960195,     1913530960018,\n",
       "           1913530960030,     1913530960074,     2013530260028,\n",
       "           2013530260039,     2013530260040,     2013530260051,\n",
       "           2013530260084,     2013530960047,     2013530960070,\n",
       "           2013530960081,     2013530960092,     2013530960139,\n",
       "           2013530960162,     2013530960210,     2013530960232,\n",
       "           1813531060048,     1913530260066,     1913530960063,\n",
       "           1913530960085,     2013530260017,     2013530260062,\n",
       "           2013530260095,     2013530960014,     2013530960058,\n",
       "           2013530960106,     2013530960140,     2013530960173,\n",
       "           2113530260151,     2113530960055,     1813531060107,\n",
       "           1913530260169,     1913530260240,     2213530370011,\n",
       "           1813531060015,     1813531060093,     1913530260206,\n",
       "           2013530960221,     2113530260058,     2113530260139,\n",
       "           2113530960033,     1410561724885,     1813538075939,\n",
       "           1813531060244,     1913530260011,     1913530260088,\n",
       "           1913530260136,     1913530260192, 19100320360960048,\n",
       "           2013530260073,     2013530260109,     2013530960025,\n",
       "           2013530960069,     2013530960151,     2013530960184,\n",
       "       20100320360960239,     2113530260014,     2113530260025,\n",
       "           2113530260047,     2113530260069,     2113530260070,\n",
       "           2113530260081,     2113530260092,     2113530260128,\n",
       "           2113530260140,     2113530260162,     2113530960011,\n",
       "           2113530960022,     2113530960066,     2113530960077,\n",
       "           2213530360034,     2213530360056, 22100320360960015,\n",
       "       22100320360960026, 22100320360960037, 22100320360960048,\n",
       "       22100320360960060, 22100320360960071, 22100320360960082,\n",
       "       22100320360960107, 22100320360960129, 22100320360960141,\n",
       "       22100320360960163, 22100320360960174, 22100320360960185,\n",
       "       22100320360960196, 22100320360960255, 22100320360960266,\n",
       "       22100320360970014, 22100320360970025, 22100320360970036,\n",
       "       22100320360970047, 22100320360970058, 22100320360970069,\n",
       "       22100320360970070, 22100320360970081, 22100320360970106,\n",
       "       23100320360260037, 23100320360260071, 23100320360260082,\n",
       "       23100320360260107, 23100320360260129, 23100320360260130,\n",
       "       23100320360260152, 23100320360260163, 23100320360260174,\n",
       "       23100320360260185, 23100320360260196, 23100320360260222,\n",
       "       23100320360260255, 23100320360260277, 23100320360260314,\n",
       "       23100320360260347, 23100320360260369, 23100320360260370,\n",
       "       23100320360260381, 23100320360260417, 23100320360260439,\n",
       "       23100320360270014, 23100320360270025, 23100320360270047,\n",
       "       23100320360270058, 23100320360270069, 23100320360270081,\n",
       "       23100320360270117, 23100320360270139, 23100320360270140,\n",
       "       23100320360270162, 23100320360270173, 23100320360270195,\n",
       "       23100320360270209, 23100320360270210, 23100320360270221,\n",
       "       23100320360270232, 23100320360270254, 23100320360270070,\n",
       "       23100320360270092, 23100320360270106, 23100320360270128,\n",
       "       23100320360270184, 23100320360270243, 23100320360270265,\n",
       "       23100320360270276])"
      ]
     },
     "execution_count": 45,
     "metadata": {},
     "output_type": "execute_result"
    }
   ],
   "source": [
    "df['SID'].astype(int).unique()"
   ]
  },
  {
   "cell_type": "code",
   "execution_count": 46,
   "id": "fda3e256-4777-4b2c-90dc-46e782190204",
   "metadata": {},
   "outputs": [
    {
     "data": {
      "text/plain": [
       "145"
      ]
     },
     "execution_count": 46,
     "metadata": {},
     "output_type": "execute_result"
    }
   ],
   "source": [
    "len(df['SID'].astype(int).unique())"
   ]
  },
  {
   "cell_type": "code",
   "execution_count": 47,
   "id": "699e4971-b6fd-4e20-8800-728d661839a2",
   "metadata": {},
   "outputs": [],
   "source": [
    "identical = (df['SID'].astype(int) == df_parquet['SID'].astype(int)).all()"
   ]
  },
  {
   "cell_type": "code",
   "execution_count": 48,
   "id": "5a13a91b-c6d1-44f3-9546-3accbe20b703",
   "metadata": {},
   "outputs": [
    {
     "data": {
      "text/plain": [
       "True"
      ]
     },
     "execution_count": 48,
     "metadata": {},
     "output_type": "execute_result"
    }
   ],
   "source": [
    "identical"
   ]
  },
  {
   "cell_type": "code",
   "execution_count": null,
   "id": "e778ec9f-65c4-4062-9a76-f42a86e7f72a",
   "metadata": {},
   "outputs": [],
   "source": []
  }
 ],
 "metadata": {
  "kernelspec": {
   "display_name": "Python 3 (ipykernel)",
   "language": "python",
   "name": "python3"
  },
  "language_info": {
   "codemirror_mode": {
    "name": "ipython",
    "version": 3
   },
   "file_extension": ".py",
   "mimetype": "text/x-python",
   "name": "python",
   "nbconvert_exporter": "python",
   "pygments_lexer": "ipython3",
   "version": "3.11.5"
  }
 },
 "nbformat": 4,
 "nbformat_minor": 5
}
